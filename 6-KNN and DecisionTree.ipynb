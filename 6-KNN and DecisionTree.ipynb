{
 "cells": [
  {
   "cell_type": "markdown",
   "metadata": {},
   "source": [
    "# Intro to KNN, Decision Trees, and Healthcare Challenges"
   ]
  },
  {
   "cell_type": "markdown",
   "metadata": {},
   "source": [
    "## Goal of the Session\n",
    "The purpose of this session is to introduce you to the basics of machine learning and how it applies to healthcare. By the end of this session, you should understand:\n",
    "- What K-Nearest Neighbors (KNN) and Decision Trees are.\n",
    "- How these algorithms can be used in healthcare (predicting disease, diagnosing conditions, etc.).\n",
    "- Real-world challenges of using machine learning in healthcare.\n",
    "\n",
    "Let's dive into each of these topics!"
   ]
  },
  {
   "cell_type": "markdown",
   "metadata": {},
   "source": [
    "## 1. Introduction to K-Nearest Neighbors (KNN)\n",
    "### 1.1 What is K-Nearest Neighbors?\n",
    "Imagine you are trying to figure out what sport someone plays based on how similar they are to other people you know. For example, if three of your friends play soccer, and all have similar skills, you can assume a new friend with similar skills probably plays soccer too. This is the basic idea of KNN.\n",
    "\n",
    "**KNN in One Sentence:** KNN is a way for computers to make predictions by finding examples that are most similar to what they are trying to predict.\n",
    "\n",
    "In healthcare, KNN can be used to predict a patient’s condition based on how similar their symptoms are to those of other patients."
   ]
  },
  {
   "cell_type": "markdown",
   "metadata": {},
   "source": [
    "### 1.2 How KNN Works\n",
    "1. The computer looks at all the examples it has seen before (these are called “neighbors”).\n",
    "2. For each new data point, it finds the closest neighbors based on similarity (for example, age, blood pressure, cholesterol level).\n",
    "3. It decides the most common outcome among these neighbors and uses that as the prediction.\n",
    "\n",
    "### Example of KNN\n",
    "Let's see a simple visualization to understand how KNN works."
   ]
  },
  {
   "cell_type": "code",
   "execution_count": null,
   "metadata": {},
   "source": [
    "import matplotlib.pyplot as plt\n",
    "from sklearn.datasets import make_blobs\n",
    "from sklearn.neighbors import KNeighborsClassifier\n",
    "\n",
    "# Create some data points for demonstration\n",
    "X, y = make_blobs(n_samples=100, centers=2, random_state=6)\n",
    "\n",
    "# Plot the data points\n",
    "plt.scatter(X[:, 0], X[:, 1], c=y, cmap='coolwarm', marker='o', edgecolor='k')\n",
    "plt.xlabel(\"Feature 1\")\n",
    "plt.ylabel(\"Feature 2\")\n",
    "plt.title(\"Data Points for KNN Example\")\n",
    "plt.show()"
   ],
   "outputs": []
  },
  {
   "cell_type": "markdown",
   "metadata": {},
   "source": [
    "**Discussion:** What do you notice about the data? Which points are close to each other? What predictions could we make if a new point is added close to these groups?"
   ]
  },
  {
   "cell_type": "markdown",
   "metadata": {},
   "source": [
    "### 1.3 Coding Exercise: KNN in a Healthcare Example\n",
    "**Scenario:** We want to predict if a patient is at high risk for a disease based on two features: age and cholesterol level. We'll use KNN to look at similar patients and make predictions.\n",
    "\n",
    "**Goal:** Understand how a new data point (new patient) would be classified based on similar patients' data."
   ]
  },
  {
   "cell_type": "code",
   "execution_count": null,
   "metadata": {},
   "source": [
    "from sklearn.neighbors import KNeighborsClassifier\n",
    "import numpy as np\n",
    "\n",
    "# Patient data: [Age, Cholesterol Level]\n",
    "X_health = np.array([[25, 180], [45, 200], [35, 190], [55, 220], [60, 230]])\n",
    "y_health = np.array([0, 1, 0, 1, 1])  # 0 = low risk, 1 = high risk\n",
    "\n",
    "# Define the KNN model\n",
    "knn = KNeighborsClassifier(n_neighbors=3)\n",
    "\n",
    "# Train the model\n",
    "knn.fit(X_health, y_health)\n",
    "\n",
    "# Predict for a new patient with age 40 and cholesterol level 210\n",
    "new_patient = np.array([[40, 210]])\n",
    "prediction = knn.predict(new_patient)\n",
    "\n",
    "print(f\"Prediction for new patient: {'High risk' if prediction[0] == 1 else 'Low risk'}\")"
   ],
   "outputs": []
  },
  {
   "cell_type": "markdown",
   "metadata": {},
   "source": [
    "The code above predicts if a new patient is high or low risk based on the closest three neighbors."
   ]
  },
  {
   "cell_type": "markdown",
   "metadata": {},
   "source": [
    "### 1.4 Additional Example of KNN\n",
    "Let's try a second example where we use a larger set of patient data with additional features, such as blood pressure and BMI, to classify new patients."
   ]
  },
  {
   "cell_type": "code",
   "execution_count": null,
   "metadata": {},
   "source": [
    "# Extended patient data: [Age, Cholesterol Level, Blood Pressure, BMI]\n",
    "X_health_extended = np.array([[25, 180, 120, 25], [45, 200, 140, 30], [35, 190, 135, 28], [55, 220, 150, 33], [60, 230, 160, 35]])\n",
    "y_health_extended = np.array([0, 1, 0, 1, 1])  # 0 = low risk, 1 = high risk\n",
    "\n",
    "# Train a new KNN model on this extended data\n",
    "knn_extended = KNeighborsClassifier(n_neighbors=3)\n",
    "knn_extended.fit(X_health_extended, y_health_extended)\n",
    "\n",
    "# Predict for a new patient with age 50, cholesterol level 210, blood pressure 145, and BMI 32\n",
    "new_patient_extended = np.array([[50, 210, 145, 32]])\n",
    "prediction_extended = knn_extended.predict(new_patient_extended)\n",
    "\n",
    "print(f\"Prediction for new extended patient: {'High risk' if prediction_extended[0] == 1 else 'Low risk'}\")"
   ],
   "outputs": []
  },
  {
   "cell_type": "markdown",
   "metadata": {},
   "source": [
    "## 2. Introduction to Decision Trees\n",
    "### 2.1 What is a Decision Tree?\n",
    "Think of a Decision Tree like a game of 20 Questions: Each question you ask narrows down the possibilities until you guess the correct answer. Decision Trees work similarly by splitting data into categories at each “question” or “node.”\n",
    "\n",
    "**Example in Healthcare:** A Decision Tree can be used to decide if a patient has a particular disease by asking questions like “Does the patient have a fever?” or “Is the patient’s cholesterol level high?”\n",
    "\n",
    "In machine learning, each question or split is chosen to best separate data into categories."
   ]
  },
  {
   "cell_type": "code",
   "execution_count": null,
   "metadata": {},
   "source": [
    "from sklearn.tree import DecisionTreeClassifier\n",
    "\n",
    "# Simple dataset: [Fever, Cough, Fatigue]\n",
    "X_health = np.array([[1, 0, 1], [1, 1, 0], [0, 0, 1], [1, 1, 1], [0, 1, 0]])\n",
    "y_health = np.array([1, 1, 0, 1, 0])  # 1 = Disease, 0 = No disease\n",
    "\n",
    "# Define Decision Tree model\n",
    "dt = DecisionTreeClassifier()\n",
    "\n",
    "# Train the model\n",
    "dt.fit(X_health, y_health)\n",
    "\n",
    "# Test a new patient with symptoms: Fever (1), Cough (0), Fatigue (1)\n",
    "new_patient = np.array([[1, 0, 1]])\n",
    "prediction = dt.predict(new_patient)\n",
    "\n",
    "print(f\"Prediction for new patient: {'Disease' if prediction[0] == 1 else 'No disease'}\")"
   ],
   "outputs": []
  },
  {
   "cell_type": "markdown",
   "metadata": {},
   "source": [
    "### 3. Discussion: Challenges in Healthcare for Machine Learning\n",
    "Using AI in healthcare can be beneficial, but it also has challenges. Here are some points for us to discuss:\n",
    "1. Data privacy and security\n",
    "2. Quality and availability of healthcare data\n",
    "3. Bias in algorithms\n",
    "4. Interpretability of models\n",
    "5. Regulatory and ethical concerns\n",
    "6. Data labeling challenges\n",
    "7. Integrating AI with existing healthcare systems\n",
    "8. Accuracy and reliability of models\n",
    "9. Patient consent and trust\n",
    "10. Costs and accessibility of AI in healthcare\n",
    "\n",
    "Let's discuss each of these and think about solutions or improvements for the future!"
   ]
  }
 ],
 "metadata": {
  "kernelspec": {
   "display_name": "Python 3",
   "language": "python",
   "name": "python3"
  },
  "language_info": {
   "codemirror_mode": {
    "name": "ipython",
    "version": 3
   },
   "file_extension": ".py",
   "mimetype": "text/x-python",
   "name": "python",
   "nbconvert_exporter": "python",
   "pygments_lexer": "ipython3",
   "version": "3.8.10"
  }
 },
 "nbformat": 4,
 "nbformat_minor": 4
}
